{
 "cells": [
  {
   "cell_type": "code",
   "execution_count": 101,
   "metadata": {},
   "outputs": [],
   "source": [
    "import torch\n",
    "import torch.utils\n",
    "import torch.nn as nn\n",
    "import torchvision as tv\n",
    "\n",
    "import numpy as np\n",
    "from sklearn.metrics import accuracy_score\n",
    "\n",
    "from tqdm import tqdm\n",
    "from IPython.display import clear_output \n",
    "import matplotlib.pyplot as plt\n",
    "import seaborn as sns\n",
    "\n",
    "from warnings import filterwarnings\n",
    "filterwarnings(\"ignore\")"
   ]
  },
  {
   "cell_type": "code",
   "execution_count": 8,
   "metadata": {},
   "outputs": [],
   "source": [
    "device = \"cuda\" if torch.cuda.is_available() else \"cpu\"\n",
    "my_transforms = tv.transforms.Compose([\n",
    "    tv.transforms.ToTensor(),\n",
    "    tv.transforms.Normalize(std=(0.5,), mean=(0.5,)),\n",
    "])"
   ]
  },
  {
   "cell_type": "code",
   "execution_count": 36,
   "metadata": {},
   "outputs": [
    {
     "data": {
      "text/plain": [
       "(48000, 12000)"
      ]
     },
     "execution_count": 36,
     "metadata": {},
     "output_type": "execute_result"
    }
   ],
   "source": [
    "mnist = tv.datasets.MNIST(root=\".\", download=True, transform=my_transforms) \n",
    "mnist_train, mnist_test = torch.utils.data.random_split(mnist, [0.8, 0.2])\n",
    "len(mnist_train), len(mnist_test)"
   ]
  },
  {
   "cell_type": "code",
   "execution_count": 35,
   "metadata": {},
   "outputs": [
    {
     "data": {
      "image/png": "[encoded data removed]",
      "text/plain": [
       "<Figure size 640x480 with 1 Axes>"
      ]
     },
     "metadata": {},
     "output_type": "display_data"
    }
   ],
   "source": [
    "img = mnist_train[0][0][0].numpy()\n",
    "plt.title(f\"Label: {mnist_train[0][1]}, Shape: {img.shape}\")\n",
    "plt.imshow(img, cmap=\"gray\")\n",
    "plt.show()"
   ]
  },
  {
   "cell_type": "code",
   "execution_count": 42,
   "metadata": {},
   "outputs": [],
   "source": [
    "bath_size = 128\n",
    "train_loader = torch.utils.data.DataLoader(dataset=mnist_train, batch_size=bath_size, shuffle=True)\n",
    "test_loader = torch.utils.data.DataLoader(dataset=mnist_test, batch_size=bath_size, shuffle=False)"
   ]
  },
  {
   "cell_type": "code",
   "execution_count": 41,
   "metadata": {},
   "outputs": [
    {
     "data": {
      "text/plain": [
       "torch.Size([128, 1, 28, 28])"
      ]
     },
     "execution_count": 41,
     "metadata": {},
     "output_type": "execute_result"
    }
   ],
   "source": [
    "next(iter(train_loader))[0].shape"
   ]
  },
  {
   "cell_type": "code",
   "execution_count": 114,
   "metadata": {},
   "outputs": [],
   "source": [
    "class MNISTClassifier(nn.Module):\n",
    "    def __init__(self, hidden_features=1024):\n",
    "        super(MNISTClassifier, self).__init__()\n",
    "        self.linear1 = nn.Linear(in_features=1*28*28, out_features=hidden_features)\n",
    "        self.linear2 = nn.Linear(in_features=hidden_features, out_features=int(hidden_features/2))\n",
    "        self.linear3 = nn.Linear(in_features=int(hidden_features/2), out_features=10)\n",
    "\n",
    "        self.act1 = nn.ReLU()\n",
    "        self.act2 = nn.Softmax()\n",
    "        self.drop = nn.Dropout(p=0.5)\n",
    "\n",
    "    def forward(self, x):\n",
    "        x = self.linear1(x)\n",
    "        x = self.act1(x)\n",
    "        x = self.linear2(x)\n",
    "        x = self.act1(x)\n",
    "        x = self.drop(x)\n",
    "        x = self.linear3(x)\n",
    "        out = self.act2(x)\n",
    "        return out\n",
    "    \n",
    "\n",
    "model = MNISTClassifier(hidden_features=1024).to(device)\n",
    "loss_fn = nn.CrossEntropyLoss()\n",
    "optim = torch.optim.Adam(params=model.parameters(), lr=0.001)"
   ]
  },
  {
   "cell_type": "code",
   "execution_count": 115,
   "metadata": {},
   "outputs": [
    {
     "name": "stderr",
     "output_type": "stream",
     "text": [
      "TRAIN Epoch: [1/15] Loss: 1.5686 Accuracy: nan%: 100%|██████████| 375/375 [00:07<00:00, 48.82it/s]\n",
      "TEST Epoch: [1/15] Loss: 1.5686 Accuracy: nan%: 100%|██████████| 94/94 [00:01<00:00, 63.97it/s]\n",
      "TRAIN Epoch: [2/15] Loss: 1.5095 Accuracy: 0.8984%: 100%|██████████| 375/375 [00:08<00:00, 45.50it/s]\n",
      "TEST Epoch: [2/15] Loss: 1.5095 Accuracy: 0.8958%: 100%|██████████| 94/94 [00:01<00:00, 65.41it/s]\n",
      "TRAIN Epoch: [3/15] Loss: 1.5638 Accuracy: 0.9258%: 100%|██████████| 375/375 [00:08<00:00, 45.29it/s]\n",
      "TEST Epoch: [3/15] Loss: 1.5638 Accuracy: 0.9062%: 100%|██████████| 94/94 [00:01<00:00, 64.97it/s]\n",
      "TRAIN Epoch: [4/15] Loss: 1.5072 Accuracy: 0.9167%: 100%|██████████| 375/375 [00:08<00:00, 45.40it/s]\n",
      "TEST Epoch: [4/15] Loss: 1.5072 Accuracy: 0.9097%: 100%|██████████| 94/94 [00:01<00:00, 63.73it/s]\n",
      "TRAIN Epoch: [5/15] Loss: 1.4965 Accuracy: 0.9277%: 100%|██████████| 375/375 [00:09<00:00, 40.03it/s]\n",
      "TEST Epoch: [5/15] Loss: 1.4965 Accuracy: 0.9141%: 100%|██████████| 94/94 [00:01<00:00, 54.64it/s]\n",
      "TRAIN Epoch: [6/15] Loss: 1.4929 Accuracy: 0.9359%: 100%|██████████| 375/375 [00:10<00:00, 37.39it/s]\n",
      "TEST Epoch: [6/15] Loss: 1.4929 Accuracy: 0.9188%: 100%|██████████| 94/94 [00:01<00:00, 56.60it/s]\n",
      "TRAIN Epoch: [7/15] Loss: 1.5018 Accuracy: 0.9414%: 100%|██████████| 375/375 [00:10<00:00, 37.11it/s]\n",
      "TEST Epoch: [7/15] Loss: 1.5018 Accuracy: 0.9184%: 100%|██████████| 94/94 [00:01<00:00, 56.05it/s]\n",
      "TRAIN Epoch: [8/15] Loss: 1.5157 Accuracy: 0.9431%: 100%|██████████| 375/375 [00:10<00:00, 36.98it/s]\n",
      "TEST Epoch: [8/15] Loss: 1.5157 Accuracy: 0.9196%: 100%|██████████| 94/94 [00:01<00:00, 54.47it/s]\n",
      "TRAIN Epoch: [9/15] Loss: 1.5034 Accuracy: 0.9434%: 100%|██████████| 375/375 [00:10<00:00, 36.71it/s]\n",
      "TEST Epoch: [9/15] Loss: 1.5034 Accuracy: 0.9219%: 100%|██████████| 94/94 [00:01<00:00, 54.61it/s]\n",
      "TRAIN Epoch: [10/15] Loss: 1.4792 Accuracy: 0.9453%: 100%|██████████| 375/375 [00:10<00:00, 34.61it/s]\n",
      "TEST Epoch: [10/15] Loss: 1.4792 Accuracy: 0.9236%: 100%|██████████| 94/94 [00:01<00:00, 51.95it/s]\n",
      "TRAIN Epoch: [11/15] Loss: 1.4924 Accuracy: 0.9492%: 100%|██████████| 375/375 [00:09<00:00, 37.56it/s]\n",
      "TEST Epoch: [11/15] Loss: 1.4924 Accuracy: 0.924%: 100%|██████████| 94/94 [00:01<00:00, 59.50it/s]\n",
      "TRAIN Epoch: [12/15] Loss: 1.4984 Accuracy: 0.951%: 100%|██████████| 375/375 [00:09<00:00, 40.17it/s]\n",
      "TEST Epoch: [12/15] Loss: 1.4984 Accuracy: 0.9252%: 100%|██████████| 94/94 [00:01<00:00, 62.43it/s]\n",
      "TRAIN Epoch: [13/15] Loss: 1.4901 Accuracy: 0.9525%: 100%|██████████| 375/375 [00:09<00:00, 40.35it/s]\n",
      "TEST Epoch: [13/15] Loss: 1.4901 Accuracy: 0.9253%: 100%|██████████| 94/94 [00:01<00:00, 61.65it/s]\n",
      "TRAIN Epoch: [14/15] Loss: 1.5027 Accuracy: 0.9537%: 100%|██████████| 375/375 [00:09<00:00, 40.39it/s]\n",
      "TEST Epoch: [14/15] Loss: 1.5027 Accuracy: 0.9255%: 100%|██████████| 94/94 [00:01<00:00, 62.00it/s]\n",
      "TRAIN Epoch: [15/15] Loss: 1.4691 Accuracy: 0.9542%: 100%|██████████| 375/375 [00:09<00:00, 40.47it/s]\n",
      "TEST Epoch: [15/15] Loss: 1.4691 Accuracy: 0.9263%: 100%|██████████| 94/94 [00:01<00:00, 64.73it/s]\n"
     ]
    }
   ],
   "source": [
    "EPOCHS = 15\n",
    "train_accuracy = []\n",
    "test_accuracy = []\n",
    "\n",
    "\n",
    "for epoch in range(EPOCHS):\n",
    "    model.train()\n",
    "    train_progressbar = tqdm(train_loader, desc=f\"Epoch: [{epoch+1}/{EPOCHS}]\")\n",
    "    for idx, (images, labels) in enumerate(train_progressbar):\n",
    "        optim.zero_grad()\n",
    "        images, labels = images.to(device), labels.to(device)\n",
    "        images = images.view(-1, 28*28)\n",
    "        predict = model(images)\n",
    "        loss = loss_fn(predict, labels)\n",
    "        loss.backward()\n",
    "        optim.step()\n",
    "\n",
    "        train_progressbar.set_description(f\"TRAIN Epoch: [{epoch+1}/{EPOCHS}] Loss: {round(loss.item(), 4)} Accuracy: {round(np.mean(train_accuracy), 4)}%\")\n",
    "    train_accuracy.append((np.mean(accuracy_score(predict.argmax(dim=1).detach().numpy(), labels.detach().numpy()))))\n",
    "\n",
    "    \n",
    "    with torch.no_grad():\n",
    "        model.eval()\n",
    "        test_progressbar = tqdm(test_loader, desc=f\"Epoch: [{epoch+1}/{EPOCHS}]\")\n",
    "        for idx, (images, labels) in enumerate(test_progressbar):\n",
    "            images, labels = images.to(device), labels.to(device)\n",
    "            images = images.view(-1, 28*28)\n",
    "            predict = model(images)\n",
    "            \n",
    "            test_progressbar.set_description(f\"TEST Epoch: [{epoch+1}/{EPOCHS}] Loss: {round(loss.item(), 4)} Accuracy: {round(np.mean(test_accuracy), 4)}%\")\n",
    "        test_accuracy.append((np.mean(accuracy_score(predict.argmax(dim=1).detach().numpy(), labels.detach().numpy()))))\n",
    "            "
   ]
  },
  {
   "cell_type": "code",
   "execution_count": 128,
   "metadata": {},
   "outputs": [
    {
     "data": {
      "image/png": "[encoded data removed]",
      "text/plain": [
       "<Figure size 640x480 with 1 Axes>"
      ]
     },
     "metadata": {},
     "output_type": "display_data"
    }
   ],
   "source": [
    "plt.title(\"Accuracy\")\n",
    "sns.barplot(train_accuracy, label=\"Train\")\n",
    "sns.barplot(test_accuracy, label=\"Test\")\n",
    "plt.xlabel(\"Epochs\")\n",
    "plt.ylabel(\"Score\")\n",
    "plt.legend()\n",
    "plt.show()"
   ]
  },
  {
   "cell_type": "code",
   "execution_count": null,
   "metadata": {},
   "outputs": [],
   "source": []
  }
 ],
 "metadata": {
  "kernelspec": {
   "display_name": ".venv",
   "language": "python",
   "name": "python3"
  },
  "language_info": {
   "codemirror_mode": {
    "name": "ipython",
    "version": 3
   },
   "file_extension": ".py",
   "mimetype": "text/x-python",
   "name": "python",
   "nbconvert_exporter": "python",
   "pygments_lexer": "ipython3",
   "version": "3.12.3"
  }
 },
 "nbformat": 4,
 "nbformat_minor": 2
}
