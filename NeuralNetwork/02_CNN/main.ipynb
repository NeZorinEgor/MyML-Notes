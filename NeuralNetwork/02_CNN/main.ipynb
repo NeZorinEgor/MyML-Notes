{
 "cells": [
  {
   "cell_type": "code",
   "execution_count": 1,
   "metadata": {},
   "outputs": [],
   "source": [
    "import torch\n",
    "import torch.utils\n",
    "import torch.nn as nn\n",
    "import torchvision as tv\n",
    "import torch.nn.functional as F\n",
    "\n",
    "from tqdm import tqdm\n",
    "import seaborn as sns\n",
    "import numpy as np\n",
    "import matplotlib.pyplot as plt\n",
    "\n",
    "from sklearn.metrics import accuracy_score\n",
    "\n",
    "from warnings import filterwarnings\n",
    "filterwarnings(\"ignore\")"
   ]
  },
  {
   "cell_type": "code",
   "execution_count": 2,
   "metadata": {},
   "outputs": [],
   "source": [
    "device = \"cuda\" if torch.cuda.is_available() else \"cpu\""
   ]
  },
  {
   "cell_type": "markdown",
   "metadata": {},
   "source": [
    "# Загрузка данных"
   ]
  },
  {
   "cell_type": "code",
   "execution_count": 5,
   "metadata": {},
   "outputs": [
    {
     "name": "stdout",
     "output_type": "stream",
     "text": [
      "Files already downloaded and verified\n",
      "Files already downloaded and verified\n",
      "50000 10000\n"
     ]
    }
   ],
   "source": [
    "cifar10_train = tv.datasets.CIFAR10(root=\".\", train=True, transform=tv.transforms.ToTensor(), download=True)\n",
    "cifar10_test = tv.datasets.CIFAR10(root=\".\", train=False, transform=tv.transforms.ToTensor(), download=True)\n",
    "print(len(cifar10_train), len(cifar10_test))"
   ]
  },
  {
   "cell_type": "markdown",
   "metadata": {},
   "source": [
    "### Тензоры уже привидены к формату от 0 до 1"
   ]
  },
  {
   "cell_type": "code",
   "execution_count": 6,
   "metadata": {},
   "outputs": [
    {
     "data": {
      "text/plain": [
       "tensor([[0.6196, 0.6235, 0.6471, 0.6510, 0.6275, 0.6118, 0.6353, 0.6235, 0.6196,\n",
       "         0.6235, 0.6314, 0.6275, 0.6314, 0.6510, 0.6627, 0.6667, 0.6549, 0.6353,\n",
       "         0.6275, 0.6275, 0.6118, 0.5843, 0.5882, 0.5804, 0.5843, 0.5608, 0.5490,\n",
       "         0.5529, 0.5608, 0.5373, 0.4941, 0.4549]])"
      ]
     },
     "execution_count": 6,
     "metadata": {},
     "output_type": "execute_result"
    }
   ],
   "source": [
    "cifar10_test[0][0][0][:1]"
   ]
  },
  {
   "cell_type": "code",
   "execution_count": 21,
   "metadata": {},
   "outputs": [
    {
     "name": "stderr",
     "output_type": "stream",
     "text": [
      "Clipping input data to the valid range for imshow with RGB data ([0..1] for floats or [0..255] for integers). Got range [-0.9843137..0.6156863].\n"
     ]
    },
    {
     "data": {
      "image/png": "[encoded data removed]",
      "text/plain": [
       "<Figure size 640x480 with 1 Axes>"
      ]
     },
     "metadata": {},
     "output_type": "display_data"
    }
   ],
   "source": [
    "classes = {0: \"airplane\", 1: \"automobile\", 2: \"bird\", 3: \"cat\", 4: \"deer\", 5: \"dog\", 6: \"frog\", 7: \"horse\", 8: \"ship\", 9: \"truck\"}\n",
    "image, label = cifar10_test[12]\n",
    "\n",
    "plt.title(f\"Label: {classes[label]} Shape: {image.shape}\")\n",
    "plt.imshow(np.transpose(image.numpy(), (1, 2, 0)))\n",
    "plt.show()"
   ]
  },
  {
   "cell_type": "code",
   "execution_count": 8,
   "metadata": {},
   "outputs": [],
   "source": [
    "batch_size = 256\n",
    "\n",
    "train_loader = torch.utils.data.DataLoader(cifar10_train, shuffle=True, batch_size=batch_size)\n",
    "test_loader = torch.utils.data.DataLoader(cifar10_test, shuffle=False, batch_size=batch_size)"
   ]
  },
  {
   "cell_type": "markdown",
   "metadata": {},
   "source": [
    "# Linear Neural Network"
   ]
  },
  {
   "cell_type": "code",
   "execution_count": 15,
   "metadata": {},
   "outputs": [],
   "source": [
    "class LinearNN(nn.Module):\n",
    "    def __init__(self):\n",
    "        super(LinearNN, self).__init__()\n",
    "        self.linear1 = nn.Linear(in_features=32*32*3, out_features=2048)\n",
    "        self.linear2 = nn.Linear(in_features=2048, out_features=512)\n",
    "        self.linear3 = nn.Linear(in_features=512, out_features=10)\n",
    "        self.act1 = nn.ReLU()\n",
    "        self.drop = nn.Dropout(p=0.5)\n",
    "\n",
    "    def forward(self, x):\n",
    "        x = self.act1(self.linear1(x))\n",
    "        x = self.drop(self.act1(self.linear2(x)))\n",
    "        out = self.linear3(x)\n",
    "        return out\n",
    "\n",
    "base_model = LinearNN().to(device)\n",
    "loss_fn = nn.CrossEntropyLoss()\n",
    "optimizer = torch.optim.SGD(params=base_model.parameters(), lr=0.01)"
   ]
  },
  {
   "cell_type": "markdown",
   "metadata": {},
   "source": [
    "# Обучение полносвязанной сети"
   ]
  },
  {
   "cell_type": "code",
   "execution_count": null,
   "metadata": {},
   "outputs": [],
   "source": [
    "EPOCHS = 50\n",
    "train_acc = []\n",
    "test_acc = []\n",
    "\n",
    "for epoch in range(EPOCHS):\n",
    "    # Тренировка\n",
    "    train_progressbar = tqdm(train_loader, desc=f\"Epoch [{epoch+1}/{EPOCHS}]\")\n",
    "    base_model.train()  # Переводим модель в режим тренировки\n",
    "    running_train_accuracy = 0\n",
    "\n",
    "    for idx, (imgs, labels) in enumerate(train_progressbar):\n",
    "        imgs, labels = imgs.to(device), labels.to(device)\n",
    "        imgs = imgs.view(-1, 32*32*3)\n",
    "        optimizer.zero_grad()\n",
    "\n",
    "        predicts = base_model(imgs)\n",
    "        loss = loss_fn(predicts, labels)\n",
    "        loss.backward()\n",
    "        optimizer.step()\n",
    "\n",
    "        accuracy = accuracy_score([i.argmax().item() for i in predicts], labels)\n",
    "        running_train_accuracy += accuracy\n",
    "\n",
    "        if idx % 32 == 0:\n",
    "            train_progressbar.set_description(f\"Epoch [{epoch+1}/{EPOCHS}] Loss {loss.item():.4f} Accuracy {accuracy:.4f}\")\n",
    "    \n",
    "    # Средняя точность на обучающей выборке за эпоху\n",
    "    train_acc.append(running_train_accuracy / len(train_loader))\n",
    "    \n",
    "    # Валидация\n",
    "    base_model.eval()  # Переводим модель в режим оценки\n",
    "    running_test_accuracy = 0\n",
    "    with torch.no_grad():  # Отключаем градиенты для валидации\n",
    "        for imgs, labels in test_loader:\n",
    "            imgs, labels = imgs.to(device), labels.to(device)\n",
    "            imgs = imgs.view(-1, 32*32*3)\n",
    "\n",
    "            # Получаем предсказания\n",
    "            predicts = base_model(imgs)\n",
    "\n",
    "            accuracy = accuracy_score([i.argmax().item() for i in predicts], labels)\n",
    "            running_test_accuracy += accuracy\n",
    "\n",
    "    # Средняя точность на тестовой выборке за эпоху\n",
    "    test_acc.append(running_test_accuracy / len(test_loader))\n",
    "    \n",
    "    print(f\"Epoch [{epoch+1}/{EPOCHS}] Train Accuracy: {train_acc[-1]:.4f} Test Accuracy: {test_acc[-1]:.4f}\")\n"
   ]
  },
  {
   "cell_type": "code",
   "execution_count": 30,
   "metadata": {},
   "outputs": [
    {
     "data": {
      "image/png": "[encoded data removed]",
      "text/plain": [
       "<Figure size 800x600 with 1 Axes>"
      ]
     },
     "metadata": {},
     "output_type": "display_data"
    }
   ],
   "source": [
    "sns.set_theme()\n",
    "plt.figure(figsize=(8, 6))\n",
    "plt.title(\"Прогресс перцептронной модели\")\n",
    "plt.xlabel(\"Epoch\")\n",
    "plt.ylabel(\"Accuracy\")\n",
    "sns.barplot(train_acc, label=\"train\")\n",
    "sns.barplot(test_acc, label=\"test\")\n",
    "plt.legend()\n",
    "plt.xticks([i for i in range(0, 51, 5)])\n",
    "plt.show()"
   ]
  },
  {
   "cell_type": "markdown",
   "metadata": {},
   "source": [
    "# Маленькая сверточная сеть, Adam, Softmax"
   ]
  },
  {
   "cell_type": "code",
   "execution_count": null,
   "metadata": {},
   "outputs": [],
   "source": [
    "class ConvNN(nn.Module):\n",
    "    def __init__(self):\n",
    "        super(ConvNN, self).__init__()\n",
    "        self.conv1 = nn.Conv2d(in_channels=3, out_channels=10, kernel_size=(3, 3), padding=1)\n",
    "        self.pool1 = nn.MaxPool2d(stride=(2, 2), kernel_size=(4, 4))\n",
    "\n",
    "        self.linear1 = nn.Linear(in_features=2250, out_features=100)\n",
    "        self.linear2 = nn.Linear(in_features=100, out_features=10)\n",
    "\n",
    "        self.act1 = nn.ReLU()\n",
    "        self.act2 = nn.Softmax()\n",
    "\n",
    "    def forward(self, x):\n",
    "        x = self.pool1(self.act1(self.conv1(x)))\n",
    "        x = nn.Flatten()(x)\n",
    "        x = self.act1(self.linear1(x))\n",
    "        out = self.act2(self.linear2(x))\n",
    "        return out\n",
    "\n",
    "conv_model = ConvNN()\n",
    "loss_fn = nn.CrossEntropyLoss()\n",
    "optimizer = torch.optim.Adam(params=conv_model.parameters(), lr=0.001)"
   ]
  },
  {
   "cell_type": "code",
   "execution_count": 90,
   "metadata": {},
   "outputs": [
    {
     "name": "stderr",
     "output_type": "stream",
     "text": [
      "TRAIN Epoch [1/10] Loss 1.8960 Accuracy 0.5664: 100%|██████████| 196/196 [00:08<00:00, 24.24it/s]\n"
     ]
    },
    {
     "name": "stdout",
     "output_type": "stream",
     "text": [
      "VALIDATE Epoch [1/10] Test Accuracy: 0.6250\n"
     ]
    },
    {
     "name": "stderr",
     "output_type": "stream",
     "text": [
      "TRAIN Epoch [2/10] Loss 1.9107 Accuracy 0.5391: 100%|██████████| 196/196 [00:07<00:00, 24.69it/s]\n"
     ]
    },
    {
     "name": "stdout",
     "output_type": "stream",
     "text": [
      "VALIDATE Epoch [2/10] Test Accuracy: 0.6250\n"
     ]
    },
    {
     "name": "stderr",
     "output_type": "stream",
     "text": [
      "TRAIN Epoch [3/10] Loss 1.9028 Accuracy 0.5586: 100%|██████████| 196/196 [00:07<00:00, 24.83it/s]\n"
     ]
    },
    {
     "name": "stdout",
     "output_type": "stream",
     "text": [
      "VALIDATE Epoch [3/10] Test Accuracy: 0.5000\n"
     ]
    },
    {
     "name": "stderr",
     "output_type": "stream",
     "text": [
      "TRAIN Epoch [4/10] Loss 1.8263 Accuracy 0.6367: 100%|██████████| 196/196 [00:07<00:00, 25.61it/s]\n"
     ]
    },
    {
     "name": "stdout",
     "output_type": "stream",
     "text": [
      "VALIDATE Epoch [4/10] Test Accuracy: 0.6250\n"
     ]
    },
    {
     "name": "stderr",
     "output_type": "stream",
     "text": [
      "TRAIN Epoch [5/10] Loss 1.8818 Accuracy 0.5703: 100%|██████████| 196/196 [00:07<00:00, 24.86it/s]\n"
     ]
    },
    {
     "name": "stdout",
     "output_type": "stream",
     "text": [
      "VALIDATE Epoch [5/10] Test Accuracy: 0.6875\n"
     ]
    },
    {
     "name": "stderr",
     "output_type": "stream",
     "text": [
      "TRAIN Epoch [6/10] Loss 1.8714 Accuracy 0.5938: 100%|██████████| 196/196 [00:07<00:00, 25.40it/s]\n"
     ]
    },
    {
     "name": "stdout",
     "output_type": "stream",
     "text": [
      "VALIDATE Epoch [6/10] Test Accuracy: 0.6875\n"
     ]
    },
    {
     "name": "stderr",
     "output_type": "stream",
     "text": [
      "TRAIN Epoch [7/10] Loss 1.9036 Accuracy 0.5664: 100%|██████████| 196/196 [00:07<00:00, 25.31it/s]\n"
     ]
    },
    {
     "name": "stdout",
     "output_type": "stream",
     "text": [
      "VALIDATE Epoch [7/10] Test Accuracy: 0.5625\n"
     ]
    },
    {
     "name": "stderr",
     "output_type": "stream",
     "text": [
      "TRAIN Epoch [8/10] Loss 1.8919 Accuracy 0.5547: 100%|██████████| 196/196 [00:07<00:00, 25.44it/s]\n"
     ]
    },
    {
     "name": "stdout",
     "output_type": "stream",
     "text": [
      "VALIDATE Epoch [8/10] Test Accuracy: 0.6875\n"
     ]
    },
    {
     "name": "stderr",
     "output_type": "stream",
     "text": [
      "TRAIN Epoch [9/10] Loss 1.7992 Accuracy 0.6719: 100%|██████████| 196/196 [00:07<00:00, 25.30it/s]\n"
     ]
    },
    {
     "name": "stdout",
     "output_type": "stream",
     "text": [
      "VALIDATE Epoch [9/10] Test Accuracy: 0.6875\n"
     ]
    },
    {
     "name": "stderr",
     "output_type": "stream",
     "text": [
      "TRAIN Epoch [10/10] Loss 1.8025 Accuracy 0.6797: 100%|██████████| 196/196 [00:08<00:00, 23.76it/s]\n"
     ]
    },
    {
     "name": "stdout",
     "output_type": "stream",
     "text": [
      "VALIDATE Epoch [10/10] Test Accuracy: 0.6875\n"
     ]
    }
   ],
   "source": [
    "EPOCHS = 10\n",
    "train_acc = []\n",
    "test_acc = []\n",
    "\n",
    "for epoch in range(EPOCHS):\n",
    "    conv_model.train()\n",
    "    train_progressbar = tqdm(train_loader, desc=f\"Epoch [{epoch+1}/{EPOCHS}]\")\n",
    "    for idx, (imgs, labels) in enumerate(train_progressbar):\n",
    "        imgs, labels = imgs.to(device), labels.to(device)\n",
    "\n",
    "        optimizer.zero_grad()\n",
    "\n",
    "        predicts = conv_model(imgs)\n",
    "        loss = loss_fn(predicts, labels)\n",
    "        loss.backward()\n",
    "        optimizer.step()\n",
    "        \n",
    "    \n",
    "        accuracy = accuracy_score([i.argmax().item() for i in predicts], labels)\n",
    "\n",
    "        if idx % 32 == 0:\n",
    "            train_progressbar.set_description(f\"TRAIN Epoch [{epoch+1}/{EPOCHS}] Loss {loss.item():.4f} Accuracy {accuracy:.4f}\")\n",
    "\n",
    "    train_acc.append(accuracy)\n",
    "    conv_model.eval()  \n",
    "    with torch.no_grad():  \n",
    "        for imgs, labels in test_loader:\n",
    "            imgs, labels = imgs.to(device), labels.to(device)\n",
    "\n",
    "            predicts = conv_model(imgs)\n",
    "\n",
    "            accuracy = accuracy_score([i.argmax().item() for i in predicts], labels)\n",
    "\n",
    "    test_acc.append(accuracy)\n",
    "    \n",
    "    print(f\"VALIDATE Epoch [{epoch+1}/{EPOCHS}] Test Accuracy: {test_acc[-1]:.4f}\")"
   ]
  },
  {
   "cell_type": "markdown",
   "metadata": {},
   "source": [
    "# Большая сеть + аугментация"
   ]
  },
  {
   "cell_type": "code",
   "execution_count": 3,
   "metadata": {},
   "outputs": [
    {
     "name": "stdout",
     "output_type": "stream",
     "text": [
      "Files already downloaded and verified\n",
      "Files already downloaded and verified\n"
     ]
    }
   ],
   "source": [
    "batch_size = 256\n",
    "train_augment = tv.transforms.Compose([\n",
    "    tv.transforms.RandomRotation(15),  \n",
    "    tv.transforms.RandomHorizontalFlip(),\n",
    "    tv.transforms.ToTensor(),\n",
    "    tv.transforms.Normalize(std=(0.5, 0.5, 0.5), mean=(0.5, 0.5, 0.5))  \n",
    "])\n",
    "\n",
    "test_transform = tv.transforms.Compose([\n",
    "    tv.transforms.ToTensor(),\n",
    "    tv.transforms.Normalize(std=(0.5, 0.5, 0.5), mean=(0.5, 0.5, 0.5))\n",
    "])\n",
    "\n",
    "cifar10_train = tv.datasets.CIFAR10(root=\".\", train=True, transform=train_augment, download=True)\n",
    "cifar10_test = tv.datasets.CIFAR10(root=\".\", train=False, transform=test_transform, download=True)\n",
    "\n",
    "train_loader = torch.utils.data.DataLoader(cifar10_train, shuffle=True, batch_size=batch_size)\n",
    "test_loader = torch.utils.data.DataLoader(cifar10_test, shuffle=False, batch_size=batch_size)"
   ]
  },
  {
   "cell_type": "code",
   "execution_count": 4,
   "metadata": {},
   "outputs": [],
   "source": [
    "class ConvolutionNeuralNetwork(nn.Module):\n",
    "    def __init__(self):\n",
    "        super(ConvolutionNeuralNetwork, self).__init__()\n",
    "        # Feature extractor\n",
    "        self.conv1 = nn.Conv2d(in_channels=3, out_channels=16, kernel_size=(3, 3), padding=1)\n",
    "        self.bn1 = nn.BatchNorm2d(16)\n",
    "        self.pool1 = nn.MaxPool2d(stride=(2, 2), kernel_size=(2, 2))  # 3, 32, 32 -> 16, 16, 16\n",
    "\n",
    "        self.conv2 = nn.Conv2d(in_channels=16, out_channels=32, kernel_size=(3, 3), padding=1)\n",
    "        self.bn2 = nn.BatchNorm2d(32)\n",
    "        self.pool2 = nn.MaxPool2d(stride=(2, 2), kernel_size=(2, 2))  # 16, 16, 16 -> 32, 8, 8\n",
    "\n",
    "        self.conv3 = nn.Conv2d(in_channels=32, out_channels=64, kernel_size=(3, 3), padding=1)\n",
    "        self.bn3 = nn.BatchNorm2d(64)\n",
    "        self.pool3 = nn.MaxPool2d(stride=(2, 2), kernel_size=(2, 2))  # 32, 8, 8 -> 64, 4, 4\n",
    "\n",
    "        # Classifier\n",
    "        self.linear1 = nn.Linear(in_features=64*4*4, out_features=1024)\n",
    "        self.linear2 = nn.Linear(in_features=1024, out_features=512)\n",
    "        self.linear3 = nn.Linear(in_features=512, out_features=10)\n",
    "\n",
    "        self.act1 = nn.ReLU()\n",
    "        self.drop = nn.Dropout(p=0.5)\n",
    "\n",
    "    def forward(self, x: torch.Tensor):\n",
    "        x = self.pool1(self.bn1(self.act1(self.conv1(x))))\n",
    "        x = self.pool2(self.bn2(self.act1(self.conv2(x))))\n",
    "        x = self.pool3(self.bn3(self.act1(self.conv3(x))))\n",
    "        \n",
    "        x = nn.Flatten()(x)\n",
    "        x = self.act1(self.drop(self.linear1(x)))\n",
    "        x = self.act1(self.drop(self.linear2(x)))\n",
    "        x = self.act1(self.linear3(x))\n",
    "        return x\n",
    "\n",
    "\n",
    "model = ConvolutionNeuralNetwork().to(device)\n",
    "loss_fn = nn.CrossEntropyLoss()\n",
    "optimizer = torch.optim.Adam(params=model.parameters(), lr=0.0005)"
   ]
  },
  {
   "cell_type": "code",
   "execution_count": 5,
   "metadata": {},
   "outputs": [
    {
     "name": "stderr",
     "output_type": "stream",
     "text": [
      "TRAIN Epoch [1/15] Loss 1.3560 Accuracy 0.5273: 100%|██████████| 196/196 [00:27<00:00,  7.18it/s]\n"
     ]
    },
    {
     "name": "stdout",
     "output_type": "stream",
     "text": [
      "VALIDATE Epoch [1/15] Test Accuracy: 0.6250\n",
      "SAVE BEST MODEL\n"
     ]
    },
    {
     "name": "stderr",
     "output_type": "stream",
     "text": [
      "TRAIN Epoch [2/15] Loss 1.2146 Accuracy 0.5508: 100%|██████████| 196/196 [00:27<00:00,  7.12it/s]\n"
     ]
    },
    {
     "name": "stdout",
     "output_type": "stream",
     "text": [
      "VALIDATE Epoch [2/15] Test Accuracy: 0.6250\n"
     ]
    },
    {
     "name": "stderr",
     "output_type": "stream",
     "text": [
      "TRAIN Epoch [3/15] Loss 1.0564 Accuracy 0.6406: 100%|██████████| 196/196 [00:27<00:00,  7.02it/s]\n"
     ]
    },
    {
     "name": "stdout",
     "output_type": "stream",
     "text": [
      "VALIDATE Epoch [3/15] Test Accuracy: 0.8125\n",
      "SAVE BEST MODEL\n"
     ]
    },
    {
     "name": "stderr",
     "output_type": "stream",
     "text": [
      "TRAIN Epoch [4/15] Loss 1.0747 Accuracy 0.5820: 100%|██████████| 196/196 [00:28<00:00,  6.76it/s]\n"
     ]
    },
    {
     "name": "stdout",
     "output_type": "stream",
     "text": [
      "VALIDATE Epoch [4/15] Test Accuracy: 0.6250\n"
     ]
    },
    {
     "name": "stderr",
     "output_type": "stream",
     "text": [
      "TRAIN Epoch [5/15] Loss 0.8380 Accuracy 0.6719: 100%|██████████| 196/196 [00:27<00:00,  7.12it/s]\n"
     ]
    },
    {
     "name": "stdout",
     "output_type": "stream",
     "text": [
      "VALIDATE Epoch [5/15] Test Accuracy: 0.6250\n"
     ]
    },
    {
     "name": "stderr",
     "output_type": "stream",
     "text": [
      "TRAIN Epoch [6/15] Loss 0.8189 Accuracy 0.7031: 100%|██████████| 196/196 [00:29<00:00,  6.60it/s]\n"
     ]
    },
    {
     "name": "stdout",
     "output_type": "stream",
     "text": [
      "VALIDATE Epoch [6/15] Test Accuracy: 0.7500\n"
     ]
    },
    {
     "name": "stderr",
     "output_type": "stream",
     "text": [
      "TRAIN Epoch [7/15] Loss 0.7351 Accuracy 0.7539: 100%|██████████| 196/196 [00:30<00:00,  6.44it/s]\n"
     ]
    },
    {
     "name": "stdout",
     "output_type": "stream",
     "text": [
      "VALIDATE Epoch [7/15] Test Accuracy: 0.6250\n"
     ]
    },
    {
     "name": "stderr",
     "output_type": "stream",
     "text": [
      "TRAIN Epoch [8/15] Loss 0.8586 Accuracy 0.7461: 100%|██████████| 196/196 [00:31<00:00,  6.28it/s]\n"
     ]
    },
    {
     "name": "stdout",
     "output_type": "stream",
     "text": [
      "VALIDATE Epoch [8/15] Test Accuracy: 0.7500\n"
     ]
    },
    {
     "name": "stderr",
     "output_type": "stream",
     "text": [
      "TRAIN Epoch [9/15] Loss 0.6611 Accuracy 0.7539: 100%|██████████| 196/196 [00:30<00:00,  6.41it/s]\n"
     ]
    },
    {
     "name": "stdout",
     "output_type": "stream",
     "text": [
      "VALIDATE Epoch [9/15] Test Accuracy: 0.6875\n"
     ]
    },
    {
     "name": "stderr",
     "output_type": "stream",
     "text": [
      "TRAIN Epoch [10/15] Loss 0.7769 Accuracy 0.7305: 100%|██████████| 196/196 [00:30<00:00,  6.39it/s]\n"
     ]
    },
    {
     "name": "stdout",
     "output_type": "stream",
     "text": [
      "VALIDATE Epoch [10/15] Test Accuracy: 0.6250\n"
     ]
    },
    {
     "name": "stderr",
     "output_type": "stream",
     "text": [
      "TRAIN Epoch [11/15] Loss 0.6340 Accuracy 0.7734: 100%|██████████| 196/196 [00:28<00:00,  6.90it/s]\n"
     ]
    },
    {
     "name": "stdout",
     "output_type": "stream",
     "text": [
      "VALIDATE Epoch [11/15] Test Accuracy: 0.7500\n"
     ]
    },
    {
     "name": "stderr",
     "output_type": "stream",
     "text": [
      "TRAIN Epoch [12/15] Loss 0.7599 Accuracy 0.7148: 100%|██████████| 196/196 [00:27<00:00,  7.12it/s]\n"
     ]
    },
    {
     "name": "stdout",
     "output_type": "stream",
     "text": [
      "VALIDATE Epoch [12/15] Test Accuracy: 0.6250\n"
     ]
    },
    {
     "name": "stderr",
     "output_type": "stream",
     "text": [
      "TRAIN Epoch [13/15] Loss 0.6696 Accuracy 0.7578: 100%|██████████| 196/196 [00:28<00:00,  6.80it/s]\n"
     ]
    },
    {
     "name": "stdout",
     "output_type": "stream",
     "text": [
      "VALIDATE Epoch [13/15] Test Accuracy: 0.8750\n",
      "SAVE BEST MODEL\n"
     ]
    },
    {
     "name": "stderr",
     "output_type": "stream",
     "text": [
      "TRAIN Epoch [14/15] Loss 0.5871 Accuracy 0.8008: 100%|██████████| 196/196 [00:27<00:00,  7.12it/s]\n"
     ]
    },
    {
     "name": "stdout",
     "output_type": "stream",
     "text": [
      "VALIDATE Epoch [14/15] Test Accuracy: 0.7500\n"
     ]
    },
    {
     "name": "stderr",
     "output_type": "stream",
     "text": [
      "TRAIN Epoch [15/15] Loss 0.6420 Accuracy 0.7617: 100%|██████████| 196/196 [00:26<00:00,  7.36it/s]\n"
     ]
    },
    {
     "name": "stdout",
     "output_type": "stream",
     "text": [
      "VALIDATE Epoch [15/15] Test Accuracy: 0.6250\n",
      "END LEARNING. BEST ACCURACY: 0.875\n"
     ]
    }
   ],
   "source": [
    "EPOCHS = 15\n",
    "train_acc = []\n",
    "test_acc = []\n",
    "max_accuracy = 0.0\n",
    "\n",
    "for epoch in range(EPOCHS):\n",
    "    # Обучение модели\n",
    "    model.train()\n",
    "    train_progressbar = tqdm(train_loader, desc=f\"Epoch [{epoch+1}/{EPOCHS}]\")\n",
    "    for idx, (imgs, labels) in enumerate(train_progressbar):\n",
    "        imgs, labels = imgs.to(device), labels.to(device)\n",
    "        # Обнуление градиентов\n",
    "        optimizer.zero_grad()\n",
    "\n",
    "        # Расчёт ошибки и backward prop\n",
    "        predicts = model(imgs)\n",
    "        loss = loss_fn(predicts, labels)\n",
    "        loss.backward()\n",
    "        optimizer.step()\n",
    "\n",
    "        # Подсчёт метрик\n",
    "        accuracy = accuracy_score(labels.cpu(), predicts.argmax(dim=1).cpu())\n",
    "        if idx % 8 == 0:\n",
    "            train_progressbar.set_description(f\"TRAIN Epoch [{epoch+1}/{EPOCHS}] Loss {loss.item():.4f} Accuracy {accuracy:.4f}\")\n",
    "    train_acc.append(accuracy)\n",
    "\n",
    "    # Валидация\n",
    "    model.eval()  \n",
    "    with torch.no_grad():  \n",
    "        for imgs, labels in test_loader:\n",
    "            imgs, labels = imgs.to(device), labels.to(device)\n",
    "\n",
    "            # Подсчёт метрик\n",
    "            predicts = model(imgs)\n",
    "            accuracy = accuracy_score(labels.cpu(), predicts.argmax(dim=1).cpu())\n",
    "\n",
    "\n",
    "    test_acc.append(accuracy)\n",
    "    print(f\"VALIDATE Epoch [{epoch+1}/{EPOCHS}] Test Accuracy: {accuracy:.4f}\")\n",
    "    if accuracy > max_accuracy:\n",
    "        max_accuracy = accuracy\n",
    "        torch.save(model.state_dict(), \"model.pth\")\n",
    "        print(\"SAVE BEST MODEL\")\n",
    "print(f\"END LEARNING. BEST ACCURACY: {max_accuracy}\")"
   ]
  },
  {
   "cell_type": "code",
   "execution_count": 7,
   "metadata": {},
   "outputs": [
    {
     "data": {
      "text/plain": [
       "ConvolutionNeuralNetwork(\n",
       "  (conv1): Conv2d(3, 16, kernel_size=(3, 3), stride=(1, 1), padding=(1, 1))\n",
       "  (bn1): BatchNorm2d(16, eps=1e-05, momentum=0.1, affine=True, track_running_stats=True)\n",
       "  (pool1): MaxPool2d(kernel_size=(2, 2), stride=(2, 2), padding=0, dilation=1, ceil_mode=False)\n",
       "  (conv2): Conv2d(16, 32, kernel_size=(3, 3), stride=(1, 1), padding=(1, 1))\n",
       "  (bn2): BatchNorm2d(32, eps=1e-05, momentum=0.1, affine=True, track_running_stats=True)\n",
       "  (pool2): MaxPool2d(kernel_size=(2, 2), stride=(2, 2), padding=0, dilation=1, ceil_mode=False)\n",
       "  (conv3): Conv2d(32, 64, kernel_size=(3, 3), stride=(1, 1), padding=(1, 1))\n",
       "  (bn3): BatchNorm2d(64, eps=1e-05, momentum=0.1, affine=True, track_running_stats=True)\n",
       "  (pool3): MaxPool2d(kernel_size=(2, 2), stride=(2, 2), padding=0, dilation=1, ceil_mode=False)\n",
       "  (linear1): Linear(in_features=1024, out_features=1024, bias=True)\n",
       "  (linear2): Linear(in_features=1024, out_features=512, bias=True)\n",
       "  (linear3): Linear(in_features=512, out_features=10, bias=True)\n",
       "  (act1): ReLU()\n",
       "  (drop): Dropout(p=0.5, inplace=False)\n",
       ")"
      ]
     },
     "execution_count": 7,
     "metadata": {},
     "output_type": "execute_result"
    }
   ],
   "source": [
    "best_model = ConvolutionNeuralNetwork()\n",
    "best_model.load_state_dict(torch.load(\"model.pth\", weights_only=True))\n",
    "best_model.eval()"
   ]
  },
  {
   "cell_type": "markdown",
   "metadata": {},
   "source": [
    "# Проверка модели"
   ]
  },
  {
   "cell_type": "code",
   "execution_count": 35,
   "metadata": {},
   "outputs": [
    {
     "name": "stderr",
     "output_type": "stream",
     "text": [
      "Clipping input data to the valid range for imshow with RGB data ([0..1] for floats or [0..255] for integers). Got range [-1.0..0.9372549].\n"
     ]
    },
    {
     "data": {
      "image/png": "[encoded data removed]",
      "text/plain": [
       "<Figure size 640x480 with 1 Axes>"
      ]
     },
     "metadata": {},
     "output_type": "display_data"
    }
   ],
   "source": [
    "image, label = cifar10_test[1]\n",
    "\n",
    "plt.title(f\"Label: {classes[label]} Shape: {image.shape}\")\n",
    "plt.imshow(np.transpose(image.numpy(), (1, 2, 0)))\n",
    "plt.show()"
   ]
  },
  {
   "cell_type": "code",
   "execution_count": 36,
   "metadata": {},
   "outputs": [
    {
     "data": {
      "text/plain": [
       "torch.Size([3, 32, 32])"
      ]
     },
     "execution_count": 36,
     "metadata": {},
     "output_type": "execute_result"
    }
   ],
   "source": [
    "image.shape"
   ]
  },
  {
   "cell_type": "code",
   "execution_count": 37,
   "metadata": {},
   "outputs": [
    {
     "data": {
      "text/plain": [
       "torch.Size([1, 3, 32, 32])"
      ]
     },
     "execution_count": 37,
     "metadata": {},
     "output_type": "execute_result"
    }
   ],
   "source": [
    "image = image[None, :, :, :,]\n",
    "image.shape"
   ]
  },
  {
   "cell_type": "code",
   "execution_count": 44,
   "metadata": {},
   "outputs": [
    {
     "name": "stdout",
     "output_type": "stream",
     "text": [
      "It is - 'ship', model think it is 'ship'\n"
     ]
    }
   ],
   "source": [
    "model_predict = classes[best_model(image).argmax().item()]\n",
    "print(f\"It is - '{classes[label]}', model think it is '{model_predict}'\")"
   ]
  }
 ],
 "metadata": {
  "kernelspec": {
   "display_name": ".venv",
   "language": "python",
   "name": "python3"
  },
  "language_info": {
   "codemirror_mode": {
    "name": "ipython",
    "version": 3
   },
   "file_extension": ".py",
   "mimetype": "text/x-python",
   "name": "python",
   "nbconvert_exporter": "python",
   "pygments_lexer": "ipython3",
   "version": "3.12.3"
  }
 },
 "nbformat": 4,
 "nbformat_minor": 2
}
