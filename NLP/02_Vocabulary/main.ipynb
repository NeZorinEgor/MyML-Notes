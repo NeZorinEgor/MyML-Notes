{
 "cells": [
  {
   "cell_type": "code",
   "execution_count": 2,
   "metadata": {},
   "outputs": [],
   "source": [
    "import pandas as pd\n",
    "\n",
    "from warnings import filterwarnings\n",
    "filterwarnings(\"ignore\")"
   ]
  },
  {
   "cell_type": "code",
   "execution_count": 4,
   "metadata": {},
   "outputs": [
    {
     "data": {
      "text/html": [
       "<div>\n",
       "<style scoped>\n",
       "    .dataframe tbody tr th:only-of-type {\n",
       "        vertical-align: middle;\n",
       "    }\n",
       "\n",
       "    .dataframe tbody tr th {\n",
       "        vertical-align: top;\n",
       "    }\n",
       "\n",
       "    .dataframe thead th {\n",
       "        text-align: right;\n",
       "    }\n",
       "</style>\n",
       "<table border=\"1\" class=\"dataframe\">\n",
       "  <thead>\n",
       "    <tr style=\"text-align: right;\">\n",
       "      <th></th>\n",
       "      <th>text_part</th>\n",
       "    </tr>\n",
       "  </thead>\n",
       "  <tbody>\n",
       "    <tr>\n",
       "      <th>0</th>\n",
       "      <td>771001001 кпп по октмо гбу \"жилищник района м...</td>\n",
       "    </tr>\n",
       "    <tr>\n",
       "      <th>1</th>\n",
       "      <td>5147746350230, окато 45283559000 октмо 453670...</td>\n",
       "    </tr>\n",
       "    <tr>\n",
       "      <th>2</th>\n",
       "      <td>он. статья 15 адреса, реквизиты и подписи стор...</td>\n",
       "    </tr>\n",
       "    <tr>\n",
       "      <th>3</th>\n",
       "      <td>сударственное бюджетное учреждение гор. москвы...</td>\n",
       "    </tr>\n",
       "    <tr>\n",
       "      <th>4</th>\n",
       "      <td>остью «дорстройгрупп» (ооо «дорстройгрупп» юри...</td>\n",
       "    </tr>\n",
       "  </tbody>\n",
       "</table>\n",
       "</div>"
      ],
      "text/plain": [
       "                                           text_part\n",
       "0   771001001 кпп по октмо гбу \"жилищник района м...\n",
       "1   5147746350230, окато 45283559000 октмо 453670...\n",
       "2  он. статья 15 адреса, реквизиты и подписи стор...\n",
       "3  сударственное бюджетное учреждение гор. москвы...\n",
       "4  остью «дорстройгрупп» (ооо «дорстройгрупп» юри..."
      ]
     },
     "execution_count": 4,
     "metadata": {},
     "output_type": "execute_result"
    }
   ],
   "source": [
    "df = pd.read_csv(\"base_address_ner_dataset.csv\")\n",
    "df.head()"
   ]
  },
  {
   "cell_type": "code",
   "execution_count": 5,
   "metadata": {},
   "outputs": [
    {
     "data": {
      "text/plain": [
       "(746, 1)"
      ]
     },
     "execution_count": 5,
     "metadata": {},
     "output_type": "execute_result"
    }
   ],
   "source": [
    "df.shape"
   ]
  },
  {
   "cell_type": "code",
   "execution_count": 25,
   "metadata": {},
   "outputs": [
    {
     "name": "stdout",
     "output_type": "stream",
     "text": [
      " 771001001 кпп по октмо гбу \"жилищник района митино\" государственные бюджетные учреждения субъектов российской федерации 7733902394 кпп 773301001 по окфс место нахождения (адрес) S125430, город москва, пятницкое шоссе, дом 23E реквизиты сведений об объекте контроля 45000000 инн по окопф форма собственности № п/п дата протокола по октмо 75203 29368873 45367000000 реквизиты документа, содержащего информацию для осуществления\n"
     ]
    }
   ],
   "source": [
    "print(df[\"text_part\"][0])"
   ]
  },
  {
   "cell_type": "code",
   "execution_count": 30,
   "metadata": {},
   "outputs": [],
   "source": [
    "df[\"text_part\"] = df[\"text_part\"].str.replace(\"S\", \"S \").str.replace(\"E\", \"E \").str.replace(\"\\s\\s+\", \" \")"
   ]
  },
  {
   "cell_type": "code",
   "execution_count": 31,
   "metadata": {},
   "outputs": [
    {
     "name": "stdout",
     "output_type": "stream",
     "text": [
      " 771001001 кпп по октмо гбу \"жилищник района митино\" государственные бюджетные учреждения субъектов российской федерации 7733902394 кпп 773301001 по окфс место нахождения (адрес) S 125430, город москва, пятницкое шоссе, дом 23E  реквизиты сведений об объекте контроля 45000000 инн по окопф форма собственности № п/п дата протокола по октмо 75203 29368873 45367000000 реквизиты документа, содержащего информацию для осуществления\n"
     ]
    }
   ],
   "source": [
    "print(df[\"text_part\"][0])"
   ]
  },
  {
   "cell_type": "code",
   "execution_count": 32,
   "metadata": {},
   "outputs": [],
   "source": [
    "from nltk.tokenize import WordPunctTokenizer\n",
    "\n",
    "wpt = WordPunctTokenizer()"
   ]
  },
  {
   "cell_type": "code",
   "execution_count": 38,
   "metadata": {},
   "outputs": [],
   "source": [
    "def prepare_text(text):\n",
    "    tokens = wpt.tokenize(text)\n",
    "\n",
    "    mask = []\n",
    "    is_address = False\n",
    "    for token in tokens:\n",
    "        if token == \"S\":\n",
    "            mask.append(0)\n",
    "            is_address = True\n",
    "            continue\n",
    "        elif token == \"E\":\n",
    "            mask.append(0)\n",
    "            is_address = False\n",
    "            continue\n",
    "\n",
    "        index = 1 if is_address else 0\n",
    "        mask.append(index)\n",
    "\n",
    "    df  = pd.DataFrame({\"token\": tokens, \"is_address\": mask})\n",
    "    df.loc[:, \"prev_info\", ] = df[\"is_address\"].shift(1).fillna(0.0)\n",
    "    df = df[~df[\"token\"].isin([\"S\", \"E\"])]\n",
    "\n",
    "    hist = 3\n",
    "    for i in range(1, hist + 1):\n",
    "        df.loc[:, f\"hist_{i}\"] = df[\"token\"].shift(i)\n",
    "\n",
    "    future = 3\n",
    "    for i in range(1, future + 1):\n",
    "        df.loc[:, f\"future_{i}\"] = df[\"token\"].shift(-i)\n",
    "    df = df.fillna(\"UNKNOWN\")\n",
    "    return df"
   ]
  },
  {
   "cell_type": "code",
   "execution_count": 39,
   "metadata": {},
   "outputs": [
    {
     "data": {
      "text/html": [
       "<div>\n",
       "<style scoped>\n",
       "    .dataframe tbody tr th:only-of-type {\n",
       "        vertical-align: middle;\n",
       "    }\n",
       "\n",
       "    .dataframe tbody tr th {\n",
       "        vertical-align: top;\n",
       "    }\n",
       "\n",
       "    .dataframe thead th {\n",
       "        text-align: right;\n",
       "    }\n",
       "</style>\n",
       "<table border=\"1\" class=\"dataframe\">\n",
       "  <thead>\n",
       "    <tr style=\"text-align: right;\">\n",
       "      <th></th>\n",
       "      <th>token</th>\n",
       "      <th>is_address</th>\n",
       "      <th>prev_info</th>\n",
       "      <th>hist_1</th>\n",
       "      <th>hist_2</th>\n",
       "      <th>hist_3</th>\n",
       "      <th>future_1</th>\n",
       "      <th>future_2</th>\n",
       "      <th>future_3</th>\n",
       "    </tr>\n",
       "  </thead>\n",
       "  <tbody>\n",
       "    <tr>\n",
       "      <th>0</th>\n",
       "      <td>771001001</td>\n",
       "      <td>0</td>\n",
       "      <td>0.0</td>\n",
       "      <td>UNKNOWN</td>\n",
       "      <td>UNKNOWN</td>\n",
       "      <td>UNKNOWN</td>\n",
       "      <td>кпп</td>\n",
       "      <td>по</td>\n",
       "      <td>октмо</td>\n",
       "    </tr>\n",
       "    <tr>\n",
       "      <th>1</th>\n",
       "      <td>кпп</td>\n",
       "      <td>0</td>\n",
       "      <td>0.0</td>\n",
       "      <td>771001001</td>\n",
       "      <td>UNKNOWN</td>\n",
       "      <td>UNKNOWN</td>\n",
       "      <td>по</td>\n",
       "      <td>октмо</td>\n",
       "      <td>гбу</td>\n",
       "    </tr>\n",
       "    <tr>\n",
       "      <th>2</th>\n",
       "      <td>по</td>\n",
       "      <td>0</td>\n",
       "      <td>0.0</td>\n",
       "      <td>кпп</td>\n",
       "      <td>771001001</td>\n",
       "      <td>UNKNOWN</td>\n",
       "      <td>октмо</td>\n",
       "      <td>гбу</td>\n",
       "      <td>\"</td>\n",
       "    </tr>\n",
       "    <tr>\n",
       "      <th>3</th>\n",
       "      <td>октмо</td>\n",
       "      <td>0</td>\n",
       "      <td>0.0</td>\n",
       "      <td>по</td>\n",
       "      <td>кпп</td>\n",
       "      <td>771001001</td>\n",
       "      <td>гбу</td>\n",
       "      <td>\"</td>\n",
       "      <td>жилищник</td>\n",
       "    </tr>\n",
       "    <tr>\n",
       "      <th>4</th>\n",
       "      <td>гбу</td>\n",
       "      <td>0</td>\n",
       "      <td>0.0</td>\n",
       "      <td>октмо</td>\n",
       "      <td>по</td>\n",
       "      <td>кпп</td>\n",
       "      <td>\"</td>\n",
       "      <td>жилищник</td>\n",
       "      <td>района</td>\n",
       "    </tr>\n",
       "    <tr>\n",
       "      <th>...</th>\n",
       "      <td>...</td>\n",
       "      <td>...</td>\n",
       "      <td>...</td>\n",
       "      <td>...</td>\n",
       "      <td>...</td>\n",
       "      <td>...</td>\n",
       "      <td>...</td>\n",
       "      <td>...</td>\n",
       "      <td>...</td>\n",
       "    </tr>\n",
       "    <tr>\n",
       "      <th>61</th>\n",
       "      <td>,</td>\n",
       "      <td>1</td>\n",
       "      <td>1.0</td>\n",
       "      <td>документа</td>\n",
       "      <td>реквизиты</td>\n",
       "      <td>45367000000</td>\n",
       "      <td>содержащего</td>\n",
       "      <td>информацию</td>\n",
       "      <td>для</td>\n",
       "    </tr>\n",
       "    <tr>\n",
       "      <th>62</th>\n",
       "      <td>содержащего</td>\n",
       "      <td>1</td>\n",
       "      <td>1.0</td>\n",
       "      <td>,</td>\n",
       "      <td>документа</td>\n",
       "      <td>реквизиты</td>\n",
       "      <td>информацию</td>\n",
       "      <td>для</td>\n",
       "      <td>осуществления</td>\n",
       "    </tr>\n",
       "    <tr>\n",
       "      <th>63</th>\n",
       "      <td>информацию</td>\n",
       "      <td>1</td>\n",
       "      <td>1.0</td>\n",
       "      <td>содержащего</td>\n",
       "      <td>,</td>\n",
       "      <td>документа</td>\n",
       "      <td>для</td>\n",
       "      <td>осуществления</td>\n",
       "      <td>UNKNOWN</td>\n",
       "    </tr>\n",
       "    <tr>\n",
       "      <th>64</th>\n",
       "      <td>для</td>\n",
       "      <td>1</td>\n",
       "      <td>1.0</td>\n",
       "      <td>информацию</td>\n",
       "      <td>содержащего</td>\n",
       "      <td>,</td>\n",
       "      <td>осуществления</td>\n",
       "      <td>UNKNOWN</td>\n",
       "      <td>UNKNOWN</td>\n",
       "    </tr>\n",
       "    <tr>\n",
       "      <th>65</th>\n",
       "      <td>осуществления</td>\n",
       "      <td>1</td>\n",
       "      <td>1.0</td>\n",
       "      <td>для</td>\n",
       "      <td>информацию</td>\n",
       "      <td>содержащего</td>\n",
       "      <td>UNKNOWN</td>\n",
       "      <td>UNKNOWN</td>\n",
       "      <td>UNKNOWN</td>\n",
       "    </tr>\n",
       "  </tbody>\n",
       "</table>\n",
       "<p>65 rows × 9 columns</p>\n",
       "</div>"
      ],
      "text/plain": [
       "            token  is_address  prev_info       hist_1       hist_2  \\\n",
       "0       771001001           0        0.0      UNKNOWN      UNKNOWN   \n",
       "1             кпп           0        0.0    771001001      UNKNOWN   \n",
       "2              по           0        0.0          кпп    771001001   \n",
       "3           октмо           0        0.0           по          кпп   \n",
       "4             гбу           0        0.0        октмо           по   \n",
       "..            ...         ...        ...          ...          ...   \n",
       "61              ,           1        1.0    документа    реквизиты   \n",
       "62    содержащего           1        1.0            ,    документа   \n",
       "63     информацию           1        1.0  содержащего            ,   \n",
       "64            для           1        1.0   информацию  содержащего   \n",
       "65  осуществления           1        1.0          для   информацию   \n",
       "\n",
       "         hist_3       future_1       future_2       future_3  \n",
       "0       UNKNOWN            кпп             по          октмо  \n",
       "1       UNKNOWN             по          октмо            гбу  \n",
       "2       UNKNOWN          октмо            гбу              \"  \n",
       "3     771001001            гбу              \"       жилищник  \n",
       "4           кпп              \"       жилищник         района  \n",
       "..          ...            ...            ...            ...  \n",
       "61  45367000000    содержащего     информацию            для  \n",
       "62    реквизиты     информацию            для  осуществления  \n",
       "63    документа            для  осуществления        UNKNOWN  \n",
       "64            ,  осуществления        UNKNOWN        UNKNOWN  \n",
       "65  содержащего        UNKNOWN        UNKNOWN        UNKNOWN  \n",
       "\n",
       "[65 rows x 9 columns]"
      ]
     },
     "execution_count": 39,
     "metadata": {},
     "output_type": "execute_result"
    }
   ],
   "source": [
    "prepare_text(text_df[\"text_part\"][0])"
   ]
  },
  {
   "cell_type": "code",
   "execution_count": 40,
   "metadata": {},
   "outputs": [],
   "source": [
    "text_dfs = []\n",
    "for i in text_df[\"text_part\"].values:\n",
    "    text_dfs.append(prepare_text(i))"
   ]
  },
  {
   "cell_type": "code",
   "execution_count": 42,
   "metadata": {},
   "outputs": [
    {
     "data": {
      "text/plain": [
       "746"
      ]
     },
     "execution_count": 42,
     "metadata": {},
     "output_type": "execute_result"
    }
   ],
   "source": [
    "len(text_dfs)"
   ]
  },
  {
   "cell_type": "code",
   "execution_count": 43,
   "metadata": {},
   "outputs": [
    {
     "data": {
      "text/html": [
       "<div>\n",
       "<style scoped>\n",
       "    .dataframe tbody tr th:only-of-type {\n",
       "        vertical-align: middle;\n",
       "    }\n",
       "\n",
       "    .dataframe tbody tr th {\n",
       "        vertical-align: top;\n",
       "    }\n",
       "\n",
       "    .dataframe thead th {\n",
       "        text-align: right;\n",
       "    }\n",
       "</style>\n",
       "<table border=\"1\" class=\"dataframe\">\n",
       "  <thead>\n",
       "    <tr style=\"text-align: right;\">\n",
       "      <th></th>\n",
       "      <th>token</th>\n",
       "      <th>is_address</th>\n",
       "      <th>prev_info</th>\n",
       "      <th>hist_1</th>\n",
       "      <th>hist_2</th>\n",
       "      <th>hist_3</th>\n",
       "      <th>future_1</th>\n",
       "      <th>future_2</th>\n",
       "      <th>future_3</th>\n",
       "    </tr>\n",
       "  </thead>\n",
       "  <tbody>\n",
       "    <tr>\n",
       "      <th>0</th>\n",
       "      <td>771001001</td>\n",
       "      <td>0</td>\n",
       "      <td>0.0</td>\n",
       "      <td>UNKNOWN</td>\n",
       "      <td>UNKNOWN</td>\n",
       "      <td>UNKNOWN</td>\n",
       "      <td>кпп</td>\n",
       "      <td>по</td>\n",
       "      <td>октмо</td>\n",
       "    </tr>\n",
       "    <tr>\n",
       "      <th>1</th>\n",
       "      <td>кпп</td>\n",
       "      <td>0</td>\n",
       "      <td>0.0</td>\n",
       "      <td>771001001</td>\n",
       "      <td>UNKNOWN</td>\n",
       "      <td>UNKNOWN</td>\n",
       "      <td>по</td>\n",
       "      <td>октмо</td>\n",
       "      <td>гбу</td>\n",
       "    </tr>\n",
       "    <tr>\n",
       "      <th>2</th>\n",
       "      <td>по</td>\n",
       "      <td>0</td>\n",
       "      <td>0.0</td>\n",
       "      <td>кпп</td>\n",
       "      <td>771001001</td>\n",
       "      <td>UNKNOWN</td>\n",
       "      <td>октмо</td>\n",
       "      <td>гбу</td>\n",
       "      <td>\"</td>\n",
       "    </tr>\n",
       "    <tr>\n",
       "      <th>3</th>\n",
       "      <td>октмо</td>\n",
       "      <td>0</td>\n",
       "      <td>0.0</td>\n",
       "      <td>по</td>\n",
       "      <td>кпп</td>\n",
       "      <td>771001001</td>\n",
       "      <td>гбу</td>\n",
       "      <td>\"</td>\n",
       "      <td>жилищник</td>\n",
       "    </tr>\n",
       "    <tr>\n",
       "      <th>4</th>\n",
       "      <td>гбу</td>\n",
       "      <td>0</td>\n",
       "      <td>0.0</td>\n",
       "      <td>октмо</td>\n",
       "      <td>по</td>\n",
       "      <td>кпп</td>\n",
       "      <td>\"</td>\n",
       "      <td>жилищник</td>\n",
       "      <td>района</td>\n",
       "    </tr>\n",
       "  </tbody>\n",
       "</table>\n",
       "</div>"
      ],
      "text/plain": [
       "       token  is_address  prev_info     hist_1     hist_2     hist_3 future_1  \\\n",
       "0  771001001           0        0.0    UNKNOWN    UNKNOWN    UNKNOWN      кпп   \n",
       "1        кпп           0        0.0  771001001    UNKNOWN    UNKNOWN       по   \n",
       "2         по           0        0.0        кпп  771001001    UNKNOWN    октмо   \n",
       "3      октмо           0        0.0         по        кпп  771001001      гбу   \n",
       "4        гбу           0        0.0      октмо         по        кпп        \"   \n",
       "\n",
       "   future_2  future_3  \n",
       "0        по     октмо  \n",
       "1     октмо       гбу  \n",
       "2       гбу         \"  \n",
       "3         \"  жилищник  \n",
       "4  жилищник    района  "
      ]
     },
     "execution_count": 43,
     "metadata": {},
     "output_type": "execute_result"
    }
   ],
   "source": [
    "text_dfs = pd.concat(text_dfs)\n",
    "text_dfs.head()"
   ]
  },
  {
   "cell_type": "code",
   "execution_count": null,
   "metadata": {},
   "outputs": [],
   "source": []
  }
 ],
 "metadata": {
  "kernelspec": {
   "display_name": ".venv",
   "language": "python",
   "name": "python3"
  },
  "language_info": {
   "codemirror_mode": {
    "name": "ipython",
    "version": 3
   },
   "file_extension": ".py",
   "mimetype": "text/x-python",
   "name": "python",
   "nbconvert_exporter": "python",
   "pygments_lexer": "ipython3",
   "version": "3.12.3"
  }
 },
 "nbformat": 4,
 "nbformat_minor": 2
}
